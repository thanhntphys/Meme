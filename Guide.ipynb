{
 "cells": [
  {
   "cell_type": "markdown",
   "metadata": {
    "editable": true
   },
   "source": [
    "## Project Workspace: Motivational Meme Generator"
   ]
  },
  {
   "cell_type": "markdown",
   "metadata": {
    "editable": true
   },
   "source": [
    "### Starter Code\n",
    "Review the starter code: \n",
    "\n",
    "* Locate the sample quotes and images of Xander the pup in `src/_data/`.\n",
    "* There's a basic flask server that will consume your modules and make them usable through a web interface. Check out the main code for this flask service in `app.py`.\n",
    "* Check out the HTML template files in `templates/`.\n",
    "\n",
    "To start the flask server in this workspace, run:\n",
    "```sh\n",
    "export FLASK_APP=app.py\n",
    "flask run --host 0.0.0.0 --port 3000 --reload\n",
    "```\n",
    "> **Note:** the host and port are required to access the server from within this notebook.\n",
    "\n",
    "Use the Open Preview button to view the output of the flask server:"
   ]
  },
  {
   "cell_type": "markdown",
   "metadata": {
    "editable": true,
    "ulab": {
     "buttons": {
      "ulab-button-d19ad458": {
       "bashCommand": "",
       "filesToOpen": [],
       "isPreviewButton": true,
       "runInBackground": false,
       "style": "primary",
       "text": "Open Preview",
       "toggleOffText": "HIDE SOLUTION",
       "toggleOnText": "SHOW SOLUTION"
      }
     }
    }
   },
   "source": [
    "<button id=\"ulab-button-d19ad458\" class=\"ulab-btn--primary\"></button>"
   ]
  },
  {
   "cell_type": "markdown",
   "metadata": {
    "editable": true
   },
   "source": [
    "### Quote Engine\n",
    "\n",
    "The responsibility of this module is to load and parse quotes from files. Here's what you'll need to do to complete it:\n",
    "\n",
    "* Create a Python module (including `__init__.py`) in a directory called `QuoteEngine`.\n",
    "* Example quotes are provided in a variety of files. Take a moment to review the file formats in `./_data/SimpleLines` and `./_data/DogQuotes`.\n",
    "* Implement a simple `QuoteModel` class to encapsulate the body and author.\n",
    "* Implement an abstract base class, `IngestorInterface`. This class should define two methods with the following class method signatures:  `def can_ingest(cls, path) -> boolean` and  `def parse(cls, path: str) -> List[QuoteModel] `\n",
    "* Implement separate strategy objects that realize the `IngestorInterface` for each file type (csv, docx, pdf, txt).\n",
    "* Implement a final `Ingestor` class that realizes the `IngestorInterface` abstract base class and encapsulates your helper classes. It should implement logic to select the appropriate helper for a given file, based on filetype.\n",
    "\n",
    "If you like, you can check your work against the `Quote Engine Module` section of the [rubric](https://review.udacity.com/#!/rubrics/2709/view).\n",
    "\n",
    "#### Other Requirements\n",
    "* All Quote classes should have clear, concise and PEP compliant docstrings.\n",
    "* All code should be PEP-8 compliant.\n",
    "* Common exceptions should be handled with `try-catch` blocks\n",
    "\n",
    "### Meme Engine Module \n",
    "The Meme Engine Module is responsible for manipulating and drawing text onto images. \n",
    "\n",
    "The class must implement code for:\n",
    "* Loading an image using Pillow (PIL).\n",
    "* Resizing the image so the width is at most 500px and the height is scaled proportionally.\n",
    "* Adding a quote body and a quote author to the image.\n",
    "* Saving the manipulated image.\n",
    "* The class must implement this instance method signature, which returns the path to the manipulated image: `make_meme(self, img_path, text, author, width=500) -> str`\n",
    "\n",
    "You can check your work against the `Meme Generator Module` section of the [rubric](https://review.udacity.com/#!/rubrics/2709/view).\n",
    "\n",
    "#### Other Requirements\n",
    "* All Meme Generator classes have clear, concise, and PEP compliant docstrings.\n",
    "* All code is PEP-8 Compliant.\n",
    "* Common exceptions should be handled using `try-catch` blocks.\n",
    "\n",
    "### Complete the README\n",
    "\n",
    "Your README should document your code by describing your project's functionality and how to use it.\n",
    "\n",
    "Locate the `README.md` file in the project root directory then update the README to include: \n",
    "* An overview of the project\n",
    "* Instructions for setting up and running the program\n",
    "* A brief description of the roles-and-responsibilities of all sub-modules including dependencies and examples of how to use the module\n",
    "\n",
    "### Package your Application\n",
    "\n",
    "Package the project as a command line tool and as a simple web service.\n",
    "\n",
    "#### Create a Command-Line Interface tool\n",
    "\n",
    "The project contains a simple cli app starter code in `meme.py`. This file contains `@TODO` tasks for you to complete. The utility can be which can be run from the terminal by invoking `python3 meme.py`\n",
    "\n",
    "The script must take three *optional* CLI arguments:\n",
    "\n",
    "* `--body` a string quote body\n",
    "* `--author` a string quote author\n",
    "* `--path` an image path\n",
    "\n",
    "The script returns a path to a generated image.\n",
    "If any argument is not defined, a random selection is used.\n",
    "\n",
    "#### Complete the Flask app\n",
    "\n",
    "The project contains a flask app starter code in `app.py`. This file contains `@TODO` tasks for you to complete. \n",
    "\n",
    "* The app uses the Quote Engine Module and Meme Generator Modules to generate a random captioned image.\n",
    "* It uses the `requests` package to fetch an image from a user submitted URL.\n",
    "* The flask server must run with no errors\n",
    "\n",
    "Complete the following tasks:\n",
    "* Open the `meme.py` command line starter code and complete the `@TODOs`.\n",
    "\n",
    "* Open the `app.py` flask web server starter code and complete the `@TODOs`. You can start the server by calling `python3 app.py` from a terminal window. \n",
    "\n",
    "* Check your work against the `Package your Application` section of the  [rubric](https://review.udacity.com/#!/rubrics/2709/view).\n",
    "\n",
    "* Create a `requirements.txt` file in the project root including all project dependencies.\n"
   ]
  },
  {
   "cell_type": "markdown",
   "metadata": {
    "editable": true
   },
   "source": [
    "## Submitting Your Project"
   ]
  },
  {
   "cell_type": "markdown",
   "metadata": {
    "editable": true
   },
   "source": [
    "Before you submit your project, take a moment to ensure that it is ready for review:\n",
    "\n",
    "* You have reviewed each item in the [rubric](https://review.udacity.com/#!/rubrics/2709/view) and verified you have completed it successfully.\n",
    "\n",
    "* The requirements.txt file contains all required dependencies. \n",
    "\n",
    "### Submit the project\n",
    "\n",
    "Submit your project by clicking the SUBMIT PROJECT button in the bottom right of the workspace"
   ]
  }
 ],
 "metadata": {
  "kernelspec": {
   "display_name": "Python 3",
   "language": "python",
   "name": "python3"
  },
  "language_info": {
   "codemirror_mode": {
    "name": "ipython",
    "version": 3
   },
   "file_extension": ".py",
   "mimetype": "text/x-python",
   "name": "python",
   "nbconvert_exporter": "python",
   "pygments_lexer": "ipython3",
   "version": "3.6.3"
  },
  "ulab_nb_type": "guided"
 },
 "nbformat": 4,
 "nbformat_minor": 4
}
